{
  "nbformat": 4,
  "nbformat_minor": 0,
  "metadata": {
    "colab": {
      "name": "PythonBasic2_0047.ipynb",
      "provenance": [],
      "authorship_tag": "ABX9TyMq7VPw8piOdpV+QxvXPLLq",
      "include_colab_link": true
    },
    "kernelspec": {
      "name": "python3",
      "display_name": "Python 3"
    },
    "language_info": {
      "name": "python"
    }
  },
  "cells": [
    {
      "cell_type": "markdown",
      "metadata": {
        "id": "view-in-github",
        "colab_type": "text"
      },
      "source": [
        "<a href=\"https://colab.research.google.com/github/kanyanut11/cs352-264-s0047/blob/main/PythonBasic2_0047.ipynb\" target=\"_parent\"><img src=\"https://colab.research.google.com/assets/colab-badge.svg\" alt=\"Open In Colab\"/></a>"
      ]
    },
    {
      "cell_type": "markdown",
      "source": [
        "## Python Data Structures"
      ],
      "metadata": {
        "id": "IDvKQ6CyFwcw"
      }
    },
    {
      "cell_type": "code",
      "execution_count": 1,
      "metadata": {
        "id": "s0XoBASGFofz"
      },
      "outputs": [],
      "source": [
        "my_first_list = [3,4,1,4,5,2,7]"
      ]
    },
    {
      "cell_type": "code",
      "source": [
        "my_first_list"
      ],
      "metadata": {
        "colab": {
          "base_uri": "https://localhost:8080/"
        },
        "id": "asbg_gL-IWO3",
        "outputId": "dcfc2d19-995d-4feb-d4c2-cfb54ed15e62"
      },
      "execution_count": 2,
      "outputs": [
        {
          "output_type": "execute_result",
          "data": {
            "text/plain": [
              "[3, 4, 1, 4, 5, 2, 7]"
            ]
          },
          "metadata": {},
          "execution_count": 2
        }
      ]
    },
    {
      "cell_type": "code",
      "source": [
        "dog= ['Freddie', 9 , True, 1.1, 2001]"
      ],
      "metadata": {
        "id": "IFKsFxDeIak9"
      },
      "execution_count": 3,
      "outputs": []
    },
    {
      "cell_type": "code",
      "source": [
        "dog"
      ],
      "metadata": {
        "colab": {
          "base_uri": "https://localhost:8080/"
        },
        "id": "7wG8pQ12IocD",
        "outputId": "3052d737-6987-497a-e5af-2ab5f92b6b33"
      },
      "execution_count": 4,
      "outputs": [
        {
          "output_type": "execute_result",
          "data": {
            "text/plain": [
              "['Freddie', 9, True, 1.1, 2001]"
            ]
          },
          "metadata": {},
          "execution_count": 4
        }
      ]
    },
    {
      "cell_type": "code",
      "source": [
        "dog = ['Freddie', 9, True, 1.1, 2001, ['bone', 'little ball']]"
      ],
      "metadata": {
        "id": "MMfpXiPCI4pR"
      },
      "execution_count": 6,
      "outputs": []
    },
    {
      "cell_type": "code",
      "source": [
        "sample_matrix = [[1,4,9], [1,8,27], [1,16,81]]"
      ],
      "metadata": {
        "id": "V8SjxqgfJVAe"
      },
      "execution_count": 7,
      "outputs": []
    },
    {
      "cell_type": "code",
      "source": [
        "dog"
      ],
      "metadata": {
        "colab": {
          "base_uri": "https://localhost:8080/"
        },
        "id": "MZvqCf7jJc1d",
        "outputId": "8e71b1a8-ca2e-4788-e7f9-23d1b56588a0"
      },
      "execution_count": 8,
      "outputs": [
        {
          "output_type": "execute_result",
          "data": {
            "text/plain": [
              "['Freddie', 9, True, 1.1, 2001, ['bone', 'little ball']]"
            ]
          },
          "metadata": {},
          "execution_count": 8
        }
      ]
    },
    {
      "cell_type": "code",
      "source": [
        "sample_matrix"
      ],
      "metadata": {
        "colab": {
          "base_uri": "https://localhost:8080/"
        },
        "id": "Nko8Y8c7JyZL",
        "outputId": "430cc510-b1cf-459d-d1c7-64fc3c7bfcbc"
      },
      "execution_count": 9,
      "outputs": [
        {
          "output_type": "execute_result",
          "data": {
            "text/plain": [
              "[[1, 4, 9], [1, 8, 27], [1, 16, 81]]"
            ]
          },
          "metadata": {},
          "execution_count": 9
        }
      ]
    },
    {
      "cell_type": "markdown",
      "source": [
        "## How to access a specific element of a Python list?"
      ],
      "metadata": {
        "id": "El08FFRrJ_6_"
      }
    },
    {
      "cell_type": "code",
      "source": [
        "dog"
      ],
      "metadata": {
        "colab": {
          "base_uri": "https://localhost:8080/"
        },
        "id": "L8JvDr33KBZ-",
        "outputId": "87cd9b8a-4a2a-4824-cd56-1b4848da7400"
      },
      "execution_count": 10,
      "outputs": [
        {
          "output_type": "execute_result",
          "data": {
            "text/plain": [
              "['Freddie', 9, True, 1.1, 2001, ['bone', 'little ball']]"
            ]
          },
          "metadata": {},
          "execution_count": 10
        }
      ]
    },
    {
      "cell_type": "code",
      "source": [
        "dog[1]"
      ],
      "metadata": {
        "colab": {
          "base_uri": "https://localhost:8080/"
        },
        "id": "k3jccK5AKGe3",
        "outputId": "cc481a8f-b650-46b7-a6fd-ec19c1775544"
      },
      "execution_count": 11,
      "outputs": [
        {
          "output_type": "execute_result",
          "data": {
            "text/plain": [
              "9"
            ]
          },
          "metadata": {},
          "execution_count": 11
        }
      ]
    },
    {
      "cell_type": "code",
      "source": [
        "dog[0]"
      ],
      "metadata": {
        "colab": {
          "base_uri": "https://localhost:8080/",
          "height": 34
        },
        "id": "9T23IMiyKTm2",
        "outputId": "d7e0feae-d8b3-4fda-b425-c465b27681fe"
      },
      "execution_count": 12,
      "outputs": [
        {
          "output_type": "execute_result",
          "data": {
            "application/vnd.google.colaboratory.intrinsic+json": {
              "type": "string"
            },
            "text/plain": [
              "'Freddie'"
            ]
          },
          "metadata": {},
          "execution_count": 12
        }
      ]
    },
    {
      "cell_type": "code",
      "source": [
        "dog[1]"
      ],
      "metadata": {
        "colab": {
          "base_uri": "https://localhost:8080/"
        },
        "id": "w4cDrcV0KXU-",
        "outputId": "e6a41ace-fe99-4158-be0e-dae82de5f933"
      },
      "execution_count": 13,
      "outputs": [
        {
          "output_type": "execute_result",
          "data": {
            "text/plain": [
              "9"
            ]
          },
          "metadata": {},
          "execution_count": 13
        }
      ]
    },
    {
      "cell_type": "code",
      "source": [
        "dog[2]"
      ],
      "metadata": {
        "colab": {
          "base_uri": "https://localhost:8080/"
        },
        "id": "lJqD27S7KZyi",
        "outputId": "c8929efb-c63e-4f6f-b76a-7e5040550987"
      },
      "execution_count": 14,
      "outputs": [
        {
          "output_type": "execute_result",
          "data": {
            "text/plain": [
              "True"
            ]
          },
          "metadata": {},
          "execution_count": 14
        }
      ]
    },
    {
      "cell_type": "code",
      "source": [
        "dog[3]"
      ],
      "metadata": {
        "colab": {
          "base_uri": "https://localhost:8080/"
        },
        "id": "eQskaBiRKdAN",
        "outputId": "94a74d7e-b1f5-4588-fbe6-c323b30f4410"
      },
      "execution_count": 15,
      "outputs": [
        {
          "output_type": "execute_result",
          "data": {
            "text/plain": [
              "1.1"
            ]
          },
          "metadata": {},
          "execution_count": 15
        }
      ]
    },
    {
      "cell_type": "code",
      "source": [
        "dog[4]"
      ],
      "metadata": {
        "colab": {
          "base_uri": "https://localhost:8080/"
        },
        "id": "9_1rUvOkKfnP",
        "outputId": "e8bea8f7-19be-4ecd-88e8-0baf1f38be3b"
      },
      "execution_count": 16,
      "outputs": [
        {
          "output_type": "execute_result",
          "data": {
            "text/plain": [
              "2001"
            ]
          },
          "metadata": {},
          "execution_count": 16
        }
      ]
    },
    {
      "cell_type": "code",
      "source": [
        "dog[5]"
      ],
      "metadata": {
        "colab": {
          "base_uri": "https://localhost:8080/"
        },
        "id": "EO4XFCWdKh-d",
        "outputId": "e124ff78-bd96-46cb-9c3a-94f82ab53b64"
      },
      "execution_count": 17,
      "outputs": [
        {
          "output_type": "execute_result",
          "data": {
            "text/plain": [
              "['bone', 'little ball']"
            ]
          },
          "metadata": {},
          "execution_count": 17
        }
      ]
    },
    {
      "cell_type": "markdown",
      "source": [
        "## How to access a specific element of a nested Python list"
      ],
      "metadata": {
        "id": "ucSK0Or7Koiw"
      }
    },
    {
      "cell_type": "code",
      "source": [
        "dog[5][0]"
      ],
      "metadata": {
        "colab": {
          "base_uri": "https://localhost:8080/",
          "height": 34
        },
        "id": "mwur6bTMKqRK",
        "outputId": "dabd2f2d-949e-4442-d0d1-d8470ff0457f"
      },
      "execution_count": 18,
      "outputs": [
        {
          "output_type": "execute_result",
          "data": {
            "application/vnd.google.colaboratory.intrinsic+json": {
              "type": "string"
            },
            "text/plain": [
              "'bone'"
            ]
          },
          "metadata": {},
          "execution_count": 18
        }
      ]
    },
    {
      "cell_type": "markdown",
      "source": [
        "## How to access multiple elements of a Python list"
      ],
      "metadata": {
        "id": "MhJFNn3-KydL"
      }
    },
    {
      "cell_type": "code",
      "source": [
        "dog[1:4]"
      ],
      "metadata": {
        "colab": {
          "base_uri": "https://localhost:8080/"
        },
        "id": "i-tkIYLfKzsu",
        "outputId": "a313f368-80a7-4fd4-dac3-7e6865a8abf5"
      },
      "execution_count": 19,
      "outputs": [
        {
          "output_type": "execute_result",
          "data": {
            "text/plain": [
              "[9, True, 1.1]"
            ]
          },
          "metadata": {},
          "execution_count": 19
        }
      ]
    },
    {
      "cell_type": "markdown",
      "source": [
        "## Python Data Structures #2: Tuples"
      ],
      "metadata": {
        "id": "YL0c7dU1LOhD"
      }
    },
    {
      "cell_type": "code",
      "source": [
        "book_tuple = ('A Game of Thrones', 'Digital Fortress', 'Practical Statistics for Data Scientists')"
      ],
      "metadata": {
        "id": "ZVrRdTz8LQDj"
      },
      "execution_count": 20,
      "outputs": []
    },
    {
      "cell_type": "code",
      "source": [
        "book_tuple"
      ],
      "metadata": {
        "colab": {
          "base_uri": "https://localhost:8080/"
        },
        "id": "LnvlDCb0Lb3k",
        "outputId": "16bf928f-77b2-4ba8-cb7c-c55e8877cdc8"
      },
      "execution_count": 21,
      "outputs": [
        {
          "output_type": "execute_result",
          "data": {
            "text/plain": [
              "('A Game of Thrones',\n",
              " 'Digital Fortress',\n",
              " 'Practical Statistics for Data Scientists')"
            ]
          },
          "metadata": {},
          "execution_count": 21
        }
      ]
    },
    {
      "cell_type": "code",
      "source": [
        "book_tuple[1]"
      ],
      "metadata": {
        "colab": {
          "base_uri": "https://localhost:8080/",
          "height": 34
        },
        "id": "WwCpvn92MGFY",
        "outputId": "3f018642-75ed-49bd-867e-51727d0261e9"
      },
      "execution_count": 22,
      "outputs": [
        {
          "output_type": "execute_result",
          "data": {
            "application/vnd.google.colaboratory.intrinsic+json": {
              "type": "string"
            },
            "text/plain": [
              "'Digital Fortress'"
            ]
          },
          "metadata": {},
          "execution_count": 22
        }
      ]
    },
    {
      "cell_type": "markdown",
      "source": [
        "## Python Data Structures #3: Dictionaries"
      ],
      "metadata": {
        "id": "2kqV9eayMY3s"
      }
    },
    {
      "cell_type": "code",
      "source": [
        "dog_dict = {'name': 'Freddie','age': 9, 'is_vaccinated': True, 'height': 1.1, 'birth_year': 2001, 'belongings': ['bone', 'little ball']}"
      ],
      "metadata": {
        "id": "BDYnFGzeMb-l"
      },
      "execution_count": 24,
      "outputs": []
    },
    {
      "cell_type": "code",
      "source": [
        "dog_dict"
      ],
      "metadata": {
        "colab": {
          "base_uri": "https://localhost:8080/"
        },
        "id": "44ovRuVBMzEH",
        "outputId": "3a6ef667-c3f1-4127-ad28-2a011df2db32"
      },
      "execution_count": 25,
      "outputs": [
        {
          "output_type": "execute_result",
          "data": {
            "text/plain": [
              "{'age': 9,\n",
              " 'belongings': ['bone', 'little ball'],\n",
              " 'birth_year': 2001,\n",
              " 'height': 1.1,\n",
              " 'is_vaccinated': True,\n",
              " 'name': 'Freddie'}"
            ]
          },
          "metadata": {},
          "execution_count": 25
        }
      ]
    },
    {
      "cell_type": "markdown",
      "source": [
        "## How to access a specific element of a Python dictionary"
      ],
      "metadata": {
        "id": "gKCQilMmM6W9"
      }
    },
    {
      "cell_type": "code",
      "source": [
        "dog_dict['name']"
      ],
      "metadata": {
        "colab": {
          "base_uri": "https://localhost:8080/",
          "height": 34
        },
        "id": "QD3EWGC3M8bN",
        "outputId": "666ab4f4-f61a-4880-f1bd-b3890273748f"
      },
      "execution_count": 26,
      "outputs": [
        {
          "output_type": "execute_result",
          "data": {
            "application/vnd.google.colaboratory.intrinsic+json": {
              "type": "string"
            },
            "text/plain": [
              "'Freddie'"
            ]
          },
          "metadata": {},
          "execution_count": 26
        }
      ]
    },
    {
      "cell_type": "markdown",
      "source": [
        "## Test yourself!"
      ],
      "metadata": {
        "id": "N3craubANOsy"
      }
    },
    {
      "cell_type": "code",
      "source": [
        "test = [{'Arizona': 'Phoenix', 'California': 'Sacramento', 'Hawaii': 'Honolulu'},1000,2000,3000,['hat', 't-shirt', 'jeans', {'socks1': 'red', 'socks2': 'blue'}]]"
      ],
      "metadata": {
        "id": "sUGaC_gINQH8"
      },
      "execution_count": 28,
      "outputs": []
    },
    {
      "cell_type": "code",
      "source": [
        "test[2]"
      ],
      "metadata": {
        "colab": {
          "base_uri": "https://localhost:8080/"
        },
        "id": "__zty4fuOefd",
        "outputId": "7474ddc3-32c5-4884-e2c7-c74746e256ce"
      },
      "execution_count": 29,
      "outputs": [
        {
          "output_type": "execute_result",
          "data": {
            "text/plain": [
              "2000"
            ]
          },
          "metadata": {},
          "execution_count": 29
        }
      ]
    },
    {
      "cell_type": "code",
      "source": [
        "test[0]"
      ],
      "metadata": {
        "colab": {
          "base_uri": "https://localhost:8080/"
        },
        "id": "RSpL_h1lPD7w",
        "outputId": "ecf6483c-8429-4e83-c81e-1782c169bd16"
      },
      "execution_count": 30,
      "outputs": [
        {
          "output_type": "execute_result",
          "data": {
            "text/plain": [
              "{'Arizona': 'Phoenix', 'California': 'Sacramento', 'Hawaii': 'Honolulu'}"
            ]
          },
          "metadata": {},
          "execution_count": 30
        }
      ]
    },
    {
      "cell_type": "code",
      "source": [
        "test[4]"
      ],
      "metadata": {
        "colab": {
          "base_uri": "https://localhost:8080/"
        },
        "id": "aXJmTDjYPO3w",
        "outputId": "a512164c-5a88-4a78-a91b-4a1cef733daf"
      },
      "execution_count": 31,
      "outputs": [
        {
          "output_type": "execute_result",
          "data": {
            "text/plain": [
              "['hat', 't-shirt', 'jeans', {'socks1': 'red', 'socks2': 'blue'}]"
            ]
          },
          "metadata": {},
          "execution_count": 31
        }
      ]
    },
    {
      "cell_type": "code",
      "source": [
        "test[0]['Arizona']"
      ],
      "metadata": {
        "colab": {
          "base_uri": "https://localhost:8080/",
          "height": 34
        },
        "id": "LpYX_JdfPUR5",
        "outputId": "73f157e5-a3db-4338-f89d-2425fb3704e7"
      },
      "execution_count": 33,
      "outputs": [
        {
          "output_type": "execute_result",
          "data": {
            "application/vnd.google.colaboratory.intrinsic+json": {
              "type": "string"
            },
            "text/plain": [
              "'Phoenix'"
            ]
          },
          "metadata": {},
          "execution_count": 33
        }
      ]
    },
    {
      "cell_type": "code",
      "source": [
        "test[4][2]"
      ],
      "metadata": {
        "colab": {
          "base_uri": "https://localhost:8080/",
          "height": 34
        },
        "id": "F2BM5RSIPjsH",
        "outputId": "edf9ec68-7a0f-4dcb-f392-51d2da14dad2"
      },
      "execution_count": 35,
      "outputs": [
        {
          "output_type": "execute_result",
          "data": {
            "application/vnd.google.colaboratory.intrinsic+json": {
              "type": "string"
            },
            "text/plain": [
              "'jeans'"
            ]
          },
          "metadata": {},
          "execution_count": 35
        }
      ]
    },
    {
      "cell_type": "code",
      "source": [
        "test[4][3]['socks2']"
      ],
      "metadata": {
        "colab": {
          "base_uri": "https://localhost:8080/",
          "height": 34
        },
        "id": "WuMIiRruPzgA",
        "outputId": "75d3f70c-dbbd-4022-f5c6-02862e7f101d"
      },
      "execution_count": 37,
      "outputs": [
        {
          "output_type": "execute_result",
          "data": {
            "application/vnd.google.colaboratory.intrinsic+json": {
              "type": "string"
            },
            "text/plain": [
              "'blue'"
            ]
          },
          "metadata": {},
          "execution_count": 37
        }
      ]
    }
  ]
}